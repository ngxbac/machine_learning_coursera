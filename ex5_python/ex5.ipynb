{
 "cells": [
  {
   "cell_type": "markdown",
   "metadata": {},
   "source": [
    "# Regularized Linear Regression and Bias v.s. Variance"
   ]
  },
  {
   "cell_type": "code",
   "execution_count": 1,
   "metadata": {
    "collapsed": true
   },
   "outputs": [],
   "source": [
    "import numpy as np\n",
    "import matplotlib.pyplot as plt\n",
    "from scipy.optimize import fmin_cg\n",
    "from scipy.io import loadmat\n"
   ]
  },
  {
   "cell_type": "code",
   "execution_count": 2,
   "metadata": {},
   "outputs": [
    {
     "data": {
      "text/plain": [
       "dict_keys(['__header__', '__version__', '__globals__', 'X', 'y', 'Xtest', 'ytest', 'Xval', 'yval'])"
      ]
     },
     "execution_count": 2,
     "metadata": {},
     "output_type": "execute_result"
    }
   ],
   "source": [
    "# Load data\n",
    "data = loadmat(\"ex5data1.mat\")\n",
    "data.keys()"
   ]
  },
  {
   "cell_type": "code",
   "execution_count": 3,
   "metadata": {
    "collapsed": true
   },
   "outputs": [],
   "source": [
    "X, y, Xtest, ytest, Xval, yval = data['X'], data['y'], data['Xtest'], data['ytest'], data['Xval'], data['yval']"
   ]
  },
  {
   "cell_type": "code",
   "execution_count": 4,
   "metadata": {},
   "outputs": [
    {
     "name": "stdout",
     "output_type": "stream",
     "text": [
      "X shape  (12, 1)\n",
      "y shape  (12, 1)\n",
      "Xtest shape  (21, 1)\n",
      "ytest shape  (21, 1)\n",
      "Xval shape  (21, 1)\n",
      "yval shape  (21, 1)\n"
     ]
    }
   ],
   "source": [
    "print(\"X shape \", X.shape)\n",
    "print(\"y shape \", y.shape)\n",
    "print(\"Xtest shape \", Xtest.shape)\n",
    "print(\"ytest shape \", ytest.shape)\n",
    "print(\"Xval shape \", Xval.shape)\n",
    "print(\"yval shape \", yval.shape)"
   ]
  },
  {
   "cell_type": "code",
   "execution_count": 5,
   "metadata": {},
   "outputs": [
    {
     "data": {
      "image/png": "[encoded data removed]",
      "text/plain": [
       "<matplotlib.figure.Figure at 0x1142b7d68>"
      ]
     },
     "metadata": {},
     "output_type": "display_data"
    }
   ],
   "source": [
    "# Plot the data\n",
    "plt.plot(X, y, 'rx');\n",
    "plt.xlabel(\"Change in water level (x)\")\n",
    "plt.ylabel(\"Water following out of the dam (y)\")\n",
    "plt.show()"
   ]
  },
  {
   "cell_type": "code",
   "execution_count": 6,
   "metadata": {},
   "outputs": [],
   "source": [
    "def linearRegCostFunction(theta, X, y, lamda):\n",
    "    m, n = X.shape;\n",
    "    theta = theta.reshape((n, 1))\n",
    "    grad = np.zeros(theta.shape);\n",
    "    h = X.dot(theta);\n",
    "    J = (1 / (2 *m)) * np.sum(np.square(h - y)) + lamda/(2 * m) * np.sum(np.square(theta[1:,:]));\n",
    "    return J\n",
    "\n",
    "def linearRegGradient(theta, X, y, lamda):\n",
    "    m, n = X.shape;\n",
    "    theta = theta.reshape((n, 1))\n",
    "    grad = np.zeros(theta.shape);\n",
    "    h = X.dot(theta);\n",
    "    grad = (X.T.dot(h - y))/m;\n",
    "    grad[1:, :] += (lamda/m) * theta[1:, :];\n",
    "    return grad.flatten()\n",
    "\n",
    "def trainLinearReg(X, y, lamda = 0):\n",
    "    m, n = X.shape;\n",
    "    initial_theta = np.zeros((n, 1));\n",
    "    maxIterations = 300;\n",
    "    theta = fmin_cg(linearRegCostFunction,initial_theta,fprime = linearRegGradient,args=(X,y,lamda), maxiter = maxIterations,disp = 0)\n",
    "    return theta;\n",
    "\n",
    "def learningCurve(X, y, Xval, yval, lamda):\n",
    "    m, n = X.shape;\n",
    "    error_train = [];\n",
    "    error_val = [];\n",
    "    for i in range(1, m):\n",
    "        theta = trainLinearReg(X[:i, :], y[:i, :], lamda);\n",
    "        error_train.append(linearRegCostFunction(theta, X[:i, :], y[:i, :], 0));\n",
    "        error_val.append(linearRegCostFunction(theta, Xval, yval, 0));\n",
    "    return (error_train, error_val)"
   ]
  },
  {
   "cell_type": "code",
   "execution_count": 7,
   "metadata": {},
   "outputs": [],
   "source": [
    "X_training = np.c_[np.ones((X.shape[0], 1)), X]"
   ]
  },
  {
   "cell_type": "code",
   "execution_count": 8,
   "metadata": {},
   "outputs": [],
   "source": [
    "theta = trainLinearReg(X_training, y, 0)"
   ]
  },
  {
   "cell_type": "code",
   "execution_count": 9,
   "metadata": {},
   "outputs": [
    {
     "data": {
      "image/png": "[encoded data removed]",
      "text/plain": [
       "<matplotlib.figure.Figure at 0x119570748>"
      ]
     },
     "metadata": {},
     "output_type": "display_data"
    }
   ],
   "source": [
    "x_min, x_max = np.min(X), np.max(X);\n",
    "xx = np.linspace(x_min, x_max);\n",
    "yy = theta[0] + xx * theta[1]\n",
    "# Plot the data\n",
    "plt.plot(X, y, 'rx', label=\"data\");\n",
    "plt.plot(xx, yy, 'b', label=\"prediction\");\n",
    "plt.xlabel(\"Change in water level (x)\")\n",
    "plt.ylabel(\"Water following out of the dam (y)\")\n",
    "plt.legend(loc = 4)\n",
    "plt.show()"
   ]
  },
  {
   "cell_type": "code",
   "execution_count": 10,
   "metadata": {},
   "outputs": [
    {
     "data": {
      "image/png": "[encoded data removed]",
      "text/plain": [
       "<matplotlib.figure.Figure at 0x1114438d0>"
      ]
     },
     "metadata": {},
     "output_type": "display_data"
    }
   ],
   "source": [
    "Xval_ = np.c_[np.ones((Xval.shape[0], 1)), Xval];\n",
    "error_train, error_val = learningCurve(X_training, y, Xval_, yval, 0)\n",
    "training_set = range(1, X.shape[0]);\n",
    "plt.plot(training_set, error_train, 'g', label=\"Traing\")\n",
    "plt.plot(training_set, error_val, 'b', label = \"Cross validation\")\n",
    "plt.xlabel(\"Number of training examples\")\n",
    "plt.ylabel(\"Error\")\n",
    "plt.legend(loc = 1)\n",
    "plt.show()"
   ]
  }
 ],
 "metadata": {
  "kernelspec": {
   "display_name": "Python 3",
   "language": "python",
   "name": "python3"
  },
  "language_info": {
   "codemirror_mode": {
    "name": "ipython",
    "version": 3
   },
   "file_extension": ".py",
   "mimetype": "text/x-python",
   "name": "python",
   "nbconvert_exporter": "python",
   "pygments_lexer": "ipython3",
   "version": "3.6.3"
  }
 },
 "nbformat": 4,
 "nbformat_minor": 2
}
