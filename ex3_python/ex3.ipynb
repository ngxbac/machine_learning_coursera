{
 "cells": [
  {
   "cell_type": "markdown",
   "metadata": {},
   "source": [
    "# Multi-class Classification and Neural Networks"
   ]
  },
  {
   "cell_type": "code",
   "execution_count": 1,
   "metadata": {
    "collapsed": true
   },
   "outputs": [],
   "source": [
    "import numpy as np\n",
    "import matplotlib.pyplot as plt\n",
    "import pandas as pd\n",
    "\n",
    "# load MATLAB files\n",
    "from scipy.io import loadmat\n",
    "from scipy.optimize import fmin_cg\n",
    "\n",
    "from sklearn.linear_model import LogisticRegression"
   ]
  },
  {
   "cell_type": "markdown",
   "metadata": {},
   "source": [
    "## Load matlab data"
   ]
  },
  {
   "cell_type": "code",
   "execution_count": 2,
   "metadata": {
    "collapsed": true
   },
   "outputs": [],
   "source": [
    "data = loadmat(\"ex3data1.mat\")"
   ]
  },
  {
   "cell_type": "markdown",
   "metadata": {},
   "source": [
    "Data is a dictionary form. Get the keys in the dictionary"
   ]
  },
  {
   "cell_type": "code",
   "execution_count": 3,
   "metadata": {},
   "outputs": [
    {
     "data": {
      "text/plain": [
       "dict_keys(['__header__', '__version__', '__globals__', 'X', 'y'])"
      ]
     },
     "execution_count": 3,
     "metadata": {},
     "output_type": "execute_result"
    }
   ],
   "source": [
    "data.keys()"
   ]
  },
  {
   "cell_type": "markdown",
   "metadata": {},
   "source": [
    "There is two keys in the dictionary, they are X and y. Check shape of X and y"
   ]
  },
  {
   "cell_type": "code",
   "execution_count": 4,
   "metadata": {},
   "outputs": [
    {
     "name": "stdout",
     "output_type": "stream",
     "text": [
      "X's shape:  (5000, 400)\n"
     ]
    }
   ],
   "source": [
    "print(\"X's shape: \", data['X'].shape)"
   ]
  },
  {
   "cell_type": "code",
   "execution_count": 5,
   "metadata": {},
   "outputs": [
    {
     "name": "stdout",
     "output_type": "stream",
     "text": [
      "Y's shape:  (5000, 1)\n"
     ]
    }
   ],
   "source": [
    "print(\"Y's shape: \", data['y'].shape)"
   ]
  },
  {
   "cell_type": "markdown",
   "metadata": {},
   "source": [
    "X contains 5000 data sample of handwriting, each handwriting image is formated in 20x20 pixels image.\n",
    "Y contains the label of each corresponding image."
   ]
  },
  {
   "cell_type": "code",
   "execution_count": 6,
   "metadata": {},
   "outputs": [
    {
     "name": "stdout",
     "output_type": "stream",
     "text": [
      "Shape of X:  (5000, 401)\n"
     ]
    }
   ],
   "source": [
    "# Get X\n",
    "X_raw = data['X']\n",
    "# Add ones to X_raw\n",
    "X = np.c_[np.ones(X_raw.shape[0]).T, X_raw]\n",
    "print(\"Shape of X: \", X.shape)\n",
    "# Get y\n",
    "y = data['y']\n",
    "# m, n\n",
    "m, n = X.shape"
   ]
  },
  {
   "cell_type": "code",
   "execution_count": 7,
   "metadata": {},
   "outputs": [
    {
     "data": {
      "image/png": "[encoded data removed]",
      "text/plain": [
       "<matplotlib.figure.Figure at 0x1a0b749160>"
      ]
     },
     "metadata": {},
     "output_type": "display_data"
    }
   ],
   "source": [
    "plt.imshow(X[1:10, 1:].reshape(-1,20).T)\n",
    "plt.axis('off');\n",
    "plt.show()"
   ]
  },
  {
   "cell_type": "markdown",
   "metadata": {},
   "source": [
    "## Vectorizing Logistic Regression"
   ]
  },
  {
   "cell_type": "markdown",
   "metadata": {},
   "source": [
    "Sigmoid function"
   ]
  },
  {
   "cell_type": "code",
   "execution_count": 8,
   "metadata": {
    "collapsed": true
   },
   "outputs": [],
   "source": [
    "def sigmoid(z):\n",
    "    return (1 / (1 + np.exp(-z)))"
   ]
  },
  {
   "cell_type": "markdown",
   "metadata": {},
   "source": [
    "We will use fmin_cg function to optimize the Logistic Regression function.\n",
    "The document of fmin_cg is described as following:\n",
    "https://docs.scipy.org/doc/scipy/reference/generated/scipy.optimize.fmin_cg.html"
   ]
  },
  {
   "cell_type": "markdown",
   "metadata": {},
   "source": [
    "Cost function"
   ]
  },
  {
   "cell_type": "code",
   "execution_count": 9,
   "metadata": {
    "collapsed": true
   },
   "outputs": [],
   "source": [
    "def lrCostFunction(theta, X, y, lamda = 0):\n",
    "    theta = np.reshape(theta, (theta.size, 1))\n",
    "    m, n = X.shape\n",
    "    h = sigmoid(X.dot(theta))\n",
    "    J = np.mean(-y * np.log(h) - (1 - y) * np.log(1 - h))\n",
    "    J += (lamda/(2*m))*np.sum(np.square(theta[1:]))\n",
    "    return J"
   ]
  },
  {
   "cell_type": "markdown",
   "metadata": {},
   "source": [
    "Grandient of logistic regression"
   ]
  },
  {
   "cell_type": "code",
   "execution_count": 10,
   "metadata": {
    "collapsed": true
   },
   "outputs": [],
   "source": [
    "def lrGradient(theta, X, y, lamda = 0):\n",
    "    m, n = X.shape\n",
    "    theta = np.reshape(theta, (theta.size, 1))\n",
    "    h = sigmoid(X.dot(theta))\n",
    "    grad = np.dot(X.T, h - y) / m\n",
    "    grad[1:] = grad[1:] + (lamda/m) * theta[1:]\n",
    "    return(grad.flatten())"
   ]
  },
  {
   "cell_type": "code",
   "execution_count": 11,
   "metadata": {
    "collapsed": true
   },
   "outputs": [],
   "source": [
    "#This function checks the probability of being number C and not C\n",
    "def oneVsAll(X,y,lamda,num_labels):\n",
    "    \n",
    "    #run configuration for numbers C\n",
    "    \n",
    "    m, n = X.shape;\n",
    "    all_theta = np.zeros((num_labels, n))\n",
    "    initTheta = np.zeros(n);\n",
    "    max_iters = 500;\n",
    "    for k in np.arange(1, 11):\n",
    "        Y = (y == (k)).astype(int)\n",
    "        all_theta[k % 10, :] = fmin_cg(lrCostFunction,initTheta,fprime = lrGradient,args=(X,Y,lamda), maxiter = max_iters,disp = 0)\n",
    "        print(\"Finished checking OneVsAll number: \", k % 10);\n",
    "    print(\"Finished checking all number \");\n",
    "    return all_theta"
   ]
  },
  {
   "cell_type": "code",
   "execution_count": 12,
   "metadata": {},
   "outputs": [
    {
     "name": "stdout",
     "output_type": "stream",
     "text": [
      "Finished checking OneVsAll number:  1\n",
      "Finished checking OneVsAll number:  2\n",
      "Finished checking OneVsAll number:  3\n",
      "Finished checking OneVsAll number:  4\n",
      "Finished checking OneVsAll number:  5\n",
      "Finished checking OneVsAll number:  6\n",
      "Finished checking OneVsAll number:  7\n",
      "Finished checking OneVsAll number:  8\n",
      "Finished checking OneVsAll number:  9\n",
      "Finished checking OneVsAll number:  0\n",
      "Finished checking all number \n"
     ]
    }
   ],
   "source": [
    "all_theta = oneVsAll(X, y, 0.1, 10);"
   ]
  },
  {
   "cell_type": "code",
   "execution_count": 13,
   "metadata": {},
   "outputs": [
    {
     "data": {
      "text/plain": [
       "(10, 401)"
      ]
     },
     "execution_count": 13,
     "metadata": {},
     "output_type": "execute_result"
    }
   ],
   "source": [
    "all_theta.shape"
   ]
  },
  {
   "cell_type": "code",
   "execution_count": 14,
   "metadata": {
    "collapsed": true
   },
   "outputs": [],
   "source": [
    "def predictOneVsAll(all_theta, X):\n",
    "    m, n = X.shape;\n",
    "    # X : m * n\n",
    "    # all_theta: n_label * n\n",
    "    prob = sigmoid(X.dot(all_theta.T));\n",
    "    pred = np.argmax(prob, axis=1)\n",
    "    return pred"
   ]
  },
  {
   "cell_type": "code",
   "execution_count": 15,
   "metadata": {
    "collapsed": true
   },
   "outputs": [],
   "source": [
    "pred = predictOneVsAll(all_theta, X);"
   ]
  },
  {
   "cell_type": "code",
   "execution_count": 16,
   "metadata": {
    "collapsed": true
   },
   "outputs": [],
   "source": [
    "def accuracy(pred,y):\n",
    "    pred.shape = (pred.size,1)\n",
    "    return np.mean((pred == y % 10))*100"
   ]
  },
  {
   "cell_type": "code",
   "execution_count": 17,
   "metadata": {},
   "outputs": [
    {
     "name": "stdout",
     "output_type": "stream",
     "text": [
      "Training set accuracy is  90.3\n"
     ]
    }
   ],
   "source": [
    "print(\"Training set accuracy is \", accuracy(pred, y))"
   ]
  },
  {
   "cell_type": "markdown",
   "metadata": {},
   "source": [
    "# Neutrual Network"
   ]
  },
  {
   "cell_type": "code",
   "execution_count": 18,
   "metadata": {
    "collapsed": true
   },
   "outputs": [],
   "source": [
    "weights = loadmat(\"ex3weights.mat\")"
   ]
  },
  {
   "cell_type": "code",
   "execution_count": 19,
   "metadata": {},
   "outputs": [
    {
     "data": {
      "text/plain": [
       "dict_keys(['__header__', '__version__', '__globals__', 'Theta1', 'Theta2'])"
      ]
     },
     "execution_count": 19,
     "metadata": {},
     "output_type": "execute_result"
    }
   ],
   "source": [
    "weights.keys()"
   ]
  },
  {
   "cell_type": "code",
   "execution_count": 20,
   "metadata": {
    "collapsed": true
   },
   "outputs": [],
   "source": [
    "Theta1 = weights['Theta1']\n",
    "Theta2 = weights['Theta2']"
   ]
  },
  {
   "cell_type": "code",
   "execution_count": 21,
   "metadata": {},
   "outputs": [
    {
     "name": "stdout",
     "output_type": "stream",
     "text": [
      "Theta1's shape  (25, 401)\n",
      "Theta2's shape  (10, 26)\n"
     ]
    }
   ],
   "source": [
    "print(\"Theta1's shape \", Theta1.shape)\n",
    "print(\"Theta2's shape \", Theta2.shape)"
   ]
  },
  {
   "cell_type": "markdown",
   "metadata": {},
   "source": [
    "Neutrual networks feed forward"
   ]
  },
  {
   "cell_type": "code",
   "execution_count": 22,
   "metadata": {
    "collapsed": true
   },
   "outputs": [],
   "source": [
    "z1 = X.dot(Theta1.T)\n",
    "a1 = sigmoid(z1)"
   ]
  },
  {
   "cell_type": "code",
   "execution_count": 23,
   "metadata": {
    "collapsed": true
   },
   "outputs": [],
   "source": [
    "a1 = np.c_[np.ones((a1.shape[0], 1)), a1]"
   ]
  },
  {
   "cell_type": "code",
   "execution_count": 24,
   "metadata": {
    "collapsed": true
   },
   "outputs": [],
   "source": [
    "z2 = a1.dot(Theta2.T)\n",
    "a2 = sigmoid(z2)"
   ]
  },
  {
   "cell_type": "code",
   "execution_count": 25,
   "metadata": {
    "collapsed": true
   },
   "outputs": [],
   "source": [
    "pred = np.argmax(a2, axis=1)"
   ]
  },
  {
   "cell_type": "code",
   "execution_count": 26,
   "metadata": {
    "collapsed": true
   },
   "outputs": [],
   "source": [
    "pred = (pred + 1) % 10"
   ]
  },
  {
   "cell_type": "code",
   "execution_count": 27,
   "metadata": {},
   "outputs": [
    {
     "name": "stdout",
     "output_type": "stream",
     "text": [
      "Training set accuracy by neutrual network is  97.52\n"
     ]
    }
   ],
   "source": [
    "print(\"Training set accuracy by neutrual network is \", accuracy(pred, y))"
   ]
  }
 ],
 "metadata": {
  "kernelspec": {
   "display_name": "Python 3",
   "language": "python",
   "name": "python3"
  },
  "language_info": {
   "codemirror_mode": {
    "name": "ipython",
    "version": 3
   },
   "file_extension": ".py",
   "mimetype": "text/x-python",
   "name": "python",
   "nbconvert_exporter": "python",
   "pygments_lexer": "ipython3",
   "version": "3.6.3"
  }
 },
 "nbformat": 4,
 "nbformat_minor": 2
}
