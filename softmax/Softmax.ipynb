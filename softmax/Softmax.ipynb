{
 "cells": [
  {
   "cell_type": "code",
   "execution_count": 1,
   "metadata": {
    "collapsed": true
   },
   "outputs": [],
   "source": [
    "import numpy as np\n",
    "import matplotlib.pyplot as plt\n",
    "from scipy.io import loadmat\n",
    "from scipy.optimize import fmin_cg, minimize"
   ]
  },
  {
   "cell_type": "markdown",
   "metadata": {},
   "source": [
    "Load data"
   ]
  },
  {
   "cell_type": "code",
   "execution_count": 2,
   "metadata": {},
   "outputs": [
    {
     "data": {
      "text/plain": [
       "dict_keys(['__header__', '__version__', '__globals__', 'X', 'y'])"
      ]
     },
     "execution_count": 2,
     "metadata": {},
     "output_type": "execute_result"
    }
   ],
   "source": [
    "data = loadmat(\"ex3data1.mat\")\n",
    "data.keys()"
   ]
  },
  {
   "cell_type": "code",
   "execution_count": 3,
   "metadata": {},
   "outputs": [
    {
     "name": "stdout",
     "output_type": "stream",
     "text": [
      "Shape of X:  (5000, 401)\n"
     ]
    }
   ],
   "source": [
    "# Get X\n",
    "X_raw = data['X']\n",
    "# Add ones to X_raw\n",
    "X = np.c_[np.ones(X_raw.shape[0]).T, X_raw]\n",
    "print(\"Shape of X: \", X.shape)\n",
    "# Get y\n",
    "y = data['y']"
   ]
  },
  {
   "cell_type": "markdown",
   "metadata": {},
   "source": [
    "Softmax function"
   ]
  },
  {
   "cell_type": "code",
   "execution_count": 4,
   "metadata": {},
   "outputs": [],
   "source": [
    "def softmax(z):\n",
    "    e_z = np.exp(z);\n",
    "    return e_z / e_z.sum();\n",
    "\n",
    "def softmaxCostFunction(theta, X, y, lamda = 0):\n",
    "    theta = np.reshape(theta, (10, 401))\n",
    "    m = X.shape[0];\n",
    "    z = X.dot(theta.T);\n",
    "    a = softmax(z);\n",
    "    \n",
    "    Y = np.zeros((m, 10));\n",
    "    for i in range(m):\n",
    "        Y[:, y[i, 0] % 10] = 1;\n",
    "    \n",
    "    J = np.mean(-Y * np.log(a));\n",
    "    J += (lamda/(2*m))*np.sum(np.square(theta[:, 1:]))\n",
    "    return J;\n",
    "\n",
    "def softmaxGradient(theta, X, y, lamda = 0):\n",
    "    theta = np.reshape(theta, (10, 401))\n",
    "    m = X.shape[0];\n",
    "    z = X.dot(theta.T);\n",
    "    a = softmax(z);\n",
    "                       \n",
    "    Y = np.zeros((m, 10));\n",
    "    for i in range(m):\n",
    "        Y[:, y[i, 0] % 10] = 1;\n",
    "\n",
    "    grad = np.dot((a - Y).T, X) / m;\n",
    "    grad[:, 1:] = grad[:, 1:] + (lamda/m) * theta[:, 1:]\n",
    "    return (grad.flatten());\n",
    "\n",
    "def SoftmaxOneVsAll(X,y,lamda,num_labels):    \n",
    "    m, n = X.shape;\n",
    "    all_theta = np.zeros((num_labels, n))\n",
    "    initTheta = np.zeros(n);\n",
    "    max_iters = 500;\n",
    "    for k in np.arange(1, 11):\n",
    "        Y = (y == (k)).astype(int)\n",
    "        all_theta[k % 10, :] = fmin_cg(softmaxCostFunction,initTheta,fprime = softmaxGradient,args=(X,Y,lamda), maxiter = max_iters,disp = 1)\n",
    "        print(\"Finished checking OneVsAll number: \", k % 10);\n",
    "    print(\"Finished checking all number \");\n",
    "    return all_theta\n",
    "\n",
    "def softmaxStable(Z):\n",
    "    e_Z = np.exp(Z - np.max(Z, axis = 0, keepdims = True))\n",
    "    A = e_Z / e_Z.sum(axis = 0)\n",
    "    return A\n",
    "\n",
    "def predictSoftmaxOneVsAll(all_theta, X):\n",
    "    m, n = X.shape;\n",
    "    # X : m * n\n",
    "    # all_theta: n_label * n\n",
    "    prob = softmaxStable(X.dot(all_theta.T));\n",
    "    pred = np.argmax(prob, axis=1)\n",
    "    return pred\n",
    "\n",
    "def accuracy(pred,y):\n",
    "    pred.shape = (pred.size,1)\n",
    "    return np.mean((pred == y % 10))*100"
   ]
  },
  {
   "cell_type": "code",
   "execution_count": 5,
   "metadata": {},
   "outputs": [
    {
     "data": {
      "text/plain": [
       "array([[ 0.45659032],\n",
       "       [ 0.33825043],\n",
       "       [ 0.20515925]])"
      ]
     },
     "execution_count": 5,
     "metadata": {},
     "output_type": "execute_result"
    }
   ],
   "source": [
    "softmax(np.array([[1.2],[0.9],[0.4]]))"
   ]
  },
  {
   "cell_type": "code",
   "execution_count": null,
   "metadata": {},
   "outputs": [
    {
     "name": "stdout",
     "output_type": "stream",
     "text": [
      "Warning: Desired error not necessarily achieved due to precision loss.\n",
      "         Current function value: 10.819778\n",
      "         Iterations: 0\n",
      "         Function evaluations: 82\n",
      "         Gradient evaluations: 70\n"
     ]
    }
   ],
   "source": [
    "init_theta = np.zeros((10, 401));\n",
    "lamda = 0;\n",
    "max_iters = 30;\n",
    "\n",
    "theta = fmin_cg(softmaxCostFunction,init_theta,fprime = softmaxGradient,args=(X,y,lamda), maxiter = max_iters,disp = 1)"
   ]
  },
  {
   "cell_type": "code",
   "execution_count": null,
   "metadata": {
    "collapsed": true
   },
   "outputs": [],
   "source": [
    "res = minimize(softmaxCostFunction, init_theta, jac=softmaxGradient, args=(X, y, lamda), options={\"maxiter\": max_iters})"
   ]
  },
  {
   "cell_type": "code",
   "execution_count": null,
   "metadata": {},
   "outputs": [],
   "source": [
    "res"
   ]
  },
  {
   "cell_type": "code",
   "execution_count": null,
   "metadata": {
    "collapsed": true
   },
   "outputs": [],
   "source": []
  }
 ],
 "metadata": {
  "kernelspec": {
   "display_name": "Python 3",
   "language": "python",
   "name": "python3"
  },
  "language_info": {
   "codemirror_mode": {
    "name": "ipython",
    "version": 3
   },
   "file_extension": ".py",
   "mimetype": "text/x-python",
   "name": "python",
   "nbconvert_exporter": "python",
   "pygments_lexer": "ipython3",
   "version": "3.6.3"
  }
 },
 "nbformat": 4,
 "nbformat_minor": 2
}
