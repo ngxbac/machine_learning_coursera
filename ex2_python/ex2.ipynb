{
 "cells": [
  {
   "cell_type": "markdown",
   "metadata": {},
   "source": [
    "# Logistic Regression"
   ]
  },
  {
   "cell_type": "code",
   "execution_count": 1,
   "metadata": {},
   "outputs": [],
   "source": [
    "import numpy as np\n",
    "import matplotlib.pyplot as plt\n",
    "from scipy.optimize import fmin_cg"
   ]
  },
  {
   "cell_type": "markdown",
   "metadata": {},
   "source": [
    "Load data"
   ]
  },
  {
   "cell_type": "code",
   "execution_count": 2,
   "metadata": {
    "collapsed": true
   },
   "outputs": [],
   "source": [
    "data = np.loadtxt(\"ex2data1.txt\", delimiter=\",\")"
   ]
  },
  {
   "cell_type": "markdown",
   "metadata": {},
   "source": [
    "Assign data"
   ]
  },
  {
   "cell_type": "code",
   "execution_count": 3,
   "metadata": {
    "collapsed": true
   },
   "outputs": [],
   "source": [
    "# Number of training set\n",
    "m = data.shape[0];\n",
    "# Number of features\n",
    "n = data.shape[1] - 1;\n",
    "# X is training set\n",
    "X = data[:, 0:n].reshape(-1, n)\n",
    "# y is the expected output\n",
    "y = data[:, n].reshape(-1, 1)"
   ]
  },
  {
   "cell_type": "markdown",
   "metadata": {},
   "source": [
    "## Visualizing the data"
   ]
  },
  {
   "cell_type": "code",
   "execution_count": 4,
   "metadata": {},
   "outputs": [
    {
     "data": {
      "image/png": "[encoded data removed]",
      "text/plain": [
       "<matplotlib.figure.Figure at 0x107aae9e8>"
      ]
     },
     "metadata": {},
     "output_type": "display_data"
    }
   ],
   "source": [
    "# Find all the position that y is positive and negative correspondly\n",
    "y_pos = np.where(data[:,2]==1)\n",
    "y_neg = np.where(data[:,2]==0)\n",
    "\n",
    "# Plot examples\n",
    "\n",
    "axes = plt.gca()\n",
    "axes.scatter(data[y_pos, 0], data[y_pos, 1], marker='+', c='k', s=60, linewidth=2, label=\"Admitted\")\n",
    "axes.scatter(data[y_neg, 0], data[y_neg, 1], c='y', s=60, label=\"Not admitted\")\n",
    "axes.set_xlabel(\"Exam 1 score\")\n",
    "axes.set_xlabel(\"Exam 2 score\")\n",
    "axes.legend(frameon= True, fancybox = True);\n",
    "plt.show()"
   ]
  },
  {
   "cell_type": "markdown",
   "metadata": {},
   "source": [
    "## Implementation"
   ]
  },
  {
   "cell_type": "markdown",
   "metadata": {},
   "source": [
    "### Warmup exercise: sigmoid function"
   ]
  },
  {
   "cell_type": "code",
   "execution_count": 5,
   "metadata": {
    "collapsed": true
   },
   "outputs": [],
   "source": [
    "def sigmoid(z):\n",
    "    return 1/(1 + np.exp(-z))"
   ]
  },
  {
   "cell_type": "markdown",
   "metadata": {},
   "source": [
    "### Cost function"
   ]
  },
  {
   "cell_type": "code",
   "execution_count": 6,
   "metadata": {
    "collapsed": true
   },
   "outputs": [],
   "source": [
    "def costFunction(theta, X, y):\n",
    "    # Number of training examples\n",
    "    m, n = X.shape;\n",
    "    theta = np.reshape(theta, (theta.size, 1))\n",
    "    z = np.dot(X, theta);\n",
    "    h = sigmoid(z)\n",
    "    J = np.mean( -y * np.log(h) - (1 - y) * np.log(1 - h))\n",
    "    return J"
   ]
  },
  {
   "cell_type": "code",
   "execution_count": 7,
   "metadata": {
    "collapsed": true
   },
   "outputs": [],
   "source": [
    "def gradient(theta, X, y):\n",
    "    # Number of training examples\n",
    "    m, n = X.shape;\n",
    "    theta = np.reshape(theta, (theta.size, 1))\n",
    "    z = np.dot(X, theta);\n",
    "    h = sigmoid(z)\n",
    "    grad = np.dot(X.T, h - y) / m\n",
    "    return grad.flatten()"
   ]
  },
  {
   "cell_type": "code",
   "execution_count": 8,
   "metadata": {
    "scrolled": false
   },
   "outputs": [
    {
     "name": "stdout",
     "output_type": "stream",
     "text": [
      "X.shape \n",
      " (100, 3)\n",
      "initial_theta.shape \n",
      " (3,)\n",
      "Cost: \n",
      " 0.69314718056\n",
      "Grad: \n",
      " [ -0.1        -12.00921659 -11.26284221]\n"
     ]
    }
   ],
   "source": [
    "ones = np.ones((X.shape[0], 1))\n",
    "X = np.concatenate((ones, X), axis=1)\n",
    "initial_theta = np.zeros(X.shape[1])\n",
    "J = costFunction(initial_theta, X, y)\n",
    "print(\"X.shape \\n\", X.shape)\n",
    "print(\"initial_theta.shape \\n\", initial_theta.shape)\n",
    "grad = gradient(initial_theta, X, y)\n",
    "print('Cost: \\n', J)\n",
    "print('Grad: \\n', grad)"
   ]
  },
  {
   "cell_type": "markdown",
   "metadata": {},
   "source": [
    "### Optimize cost function "
   ]
  },
  {
   "cell_type": "code",
   "execution_count": 9,
   "metadata": {},
   "outputs": [
    {
     "name": "stderr",
     "output_type": "stream",
     "text": [
      "/Users/ngxbac/anaconda3/lib/python3.6/site-packages/ipykernel_launcher.py:7: RuntimeWarning: divide by zero encountered in log\n",
      "  import sys\n",
      "/Users/ngxbac/anaconda3/lib/python3.6/site-packages/ipykernel_launcher.py:7: RuntimeWarning: invalid value encountered in multiply\n",
      "  import sys\n"
     ]
    }
   ],
   "source": [
    "res = fmin_cg(costFunction, initial_theta, args=(X,y), fprime = gradient, maxiter = 400,disp = 0)"
   ]
  },
  {
   "cell_type": "code",
   "execution_count": 10,
   "metadata": {},
   "outputs": [
    {
     "data": {
      "text/plain": [
       "array([-25.16099181,   0.20622899,   0.20146884])"
      ]
     },
     "execution_count": 10,
     "metadata": {},
     "output_type": "execute_result"
    }
   ],
   "source": [
    "res"
   ]
  },
  {
   "cell_type": "markdown",
   "metadata": {},
   "source": [
    "### Bounding decision"
   ]
  },
  {
   "cell_type": "code",
   "execution_count": 11,
   "metadata": {},
   "outputs": [
    {
     "data": {
      "image/png": "[encoded data removed]",
      "text/plain": [
       "<matplotlib.figure.Figure at 0x1050a5048>"
      ]
     },
     "metadata": {},
     "output_type": "display_data"
    }
   ],
   "source": [
    "# Find all the position that y is positive and negative correspondly\n",
    "y_pos = np.where(data[:,2]==1)\n",
    "y_neg = np.where(data[:,2]==0)\n",
    "\n",
    "# Plot examples\n",
    "\n",
    "axes = plt.gca()\n",
    "axes.scatter(data[y_pos, 0], data[y_pos, 1], marker='+', c='k', s=60, linewidth=2, label=\"Admitted\")\n",
    "axes.scatter(data[y_neg, 0], data[y_neg, 1], c='y', s=60, label=\"Not admitted\")\n",
    "axes.set_xlabel(\"Exam 1 score\")\n",
    "axes.set_xlabel(\"Exam 2 score\")\n",
    "axes.legend(frameon= True, fancybox = True);\n",
    "\n",
    "feature1_min, feature2_min = np.min(data[:,0]), np.min(data[:,1])\n",
    "feature1_max, feature2_max = np.max(data[:,0]), np.max(data[:,1])\n",
    "feature1_range_plot, feature2_range_plot = np.meshgrid(np.linspace(feature1_min, feature1_max), np.linspace(feature2_min, feature2_max))\n",
    "feature_set = np.c_[np.ones((feature1_range_plot.ravel().shape[0], 1)), feature1_range_plot.ravel(), feature2_range_plot.ravel()];\n",
    "predict_set = sigmoid(feature_set.dot(res));\n",
    "predict_set = predict_set.reshape(feature1_range_plot.shape)\n",
    "plt.contour(feature1_range_plot, feature2_range_plot, predict_set, [0.5], linewidths=1, colors='b')\n",
    "plt.show()"
   ]
  },
  {
   "cell_type": "code",
   "execution_count": null,
   "metadata": {
    "collapsed": true
   },
   "outputs": [],
   "source": []
  }
 ],
 "metadata": {
  "kernelspec": {
   "display_name": "Python 3",
   "language": "python",
   "name": "python3"
  },
  "language_info": {
   "codemirror_mode": {
    "name": "ipython",
    "version": 3
   },
   "file_extension": ".py",
   "mimetype": "text/x-python",
   "name": "python",
   "nbconvert_exporter": "python",
   "pygments_lexer": "ipython3",
   "version": "3.6.3"
  }
 },
 "nbformat": 4,
 "nbformat_minor": 2
}
